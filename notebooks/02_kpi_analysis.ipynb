{
 "cells": [
  {
   "cell_type": "code",
   "execution_count": null,
   "id": "05038c61",
   "metadata": {},
   "outputs": [],
   "source": [
    "import pandas as pd\n",
    "import matplotlib.pyplot as plt\n",
    "import seaborn as sns\n",
    "from pathlib import Path\n",
    "\n",
    "sns.set(style=\"whitegrid\")\n",
    "data_path = Path(\"../data/processed/ecommerce_clean.csv\")\n",
    "\n",
    "# Load the cleaned data\n",
    "df = pd.read_csv(data_path, parse_dates=['order_purchase_timestamp'])\n",
    "\n",
    "# KPI 1: Total revenue over time (monthly)\n",
    "df['order_month'] = df['order_purchase_timestamp'].dt.to_period('M')\n",
    "monthly_revenue = df.groupby('order_month')['order_total'].sum().reset_index()\n",
    "monthly_revenue['order_month'] = monthly_revenue['order_month'].dt.to_timestamp()\n",
    "\n",
    "plt.figure(figsize=(12,6))\n",
    "sns.lineplot(data=monthly_revenue, x='order_month', y='order_total')\n",
    "plt.title(\"Monthly Revenue Over Time\")\n",
    "plt.ylabel(\"Revenue (BRL)\")\n",
    "plt.xlabel(\"Month\")\n",
    "plt.xticks(rotation=45)\n",
    "plt.tight_layout()\n",
    "plt.show()\n",
    "\n",
    "# KPI 2: Average Order Value (AOV)\n",
    "aov = df.groupby('order_id')['order_total'].mean().mean()\n",
    "print(f\"Average Order Value (AOV): BRL {aov:.2f}\")\n",
    "\n",
    "# KPI 3: Number of orders per month\n",
    "orders_per_month = df.groupby('order_month')['order_id'].nunique().reset_index()\n",
    "orders_per_month['order_month'] = orders_per_month['order_month'].dt.to_timestamp()\n",
    "\n",
    "plt.figure(figsize=(12,6))\n",
    "sns.barplot(data=orders_per_month, x='order_month', y='order_id', color='skyblue')\n",
    "plt.title(\"Number of Orders per Month\")\n",
    "plt.ylabel(\"Number of Orders\")\n",
    "plt.xlabel(\"Month\")\n",
    "plt.xticks(rotation=45)\n",
    "plt.tight_layout()\n",
    "plt.show()\n",
    "\n",
    "# KPI 4: Top 10 Product Categories by Revenue\n",
    "category_revenue = df.groupby('product_category_name')['order_total'].sum().reset_index()\n",
    "top_categories = category_revenue.sort_values(by='order_total', ascending=False).head(10)\n",
    "\n",
    "plt.figure(figsize=(10,6))\n",
    "sns.barplot(data=top_categories, y='product_category_name', x='order_total', palette='viridis')\n",
    "plt.title(\"Top 10 Product Categories by Revenue\")\n",
    "plt.xlabel(\"Revenue (BRL)\")\n",
    "plt.ylabel(\"Product Category\")\n",
    "plt.tight_layout()\n",
    "plt.show()\n"
   ]
  }
 ],
 "metadata": {
  "kernelspec": {
   "display_name": "venv",
   "language": "python",
   "name": "python3"
  },
  "language_info": {
   "codemirror_mode": {
    "name": "ipython",
    "version": 3
   },
   "file_extension": ".py",
   "mimetype": "text/x-python",
   "name": "python",
   "nbconvert_exporter": "python",
   "pygments_lexer": "ipython3",
   "version": "3.9.6"
  }
 },
 "nbformat": 4,
 "nbformat_minor": 5
}
